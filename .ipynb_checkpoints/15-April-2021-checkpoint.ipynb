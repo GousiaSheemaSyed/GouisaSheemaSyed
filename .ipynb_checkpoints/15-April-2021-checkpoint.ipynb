{
 "cells": [
  {
   "cell_type": "code",
   "execution_count": 1,
   "metadata": {},
   "outputs": [
    {
     "name": "stdout",
     "output_type": "stream",
     "text": [
      "hello world\n"
     ]
    }
   ],
   "source": [
    "print(\"hello world\")\n"
   ]
  },
  {
   "cell_type": "markdown",
   "metadata": {},
   "source": [
    "# Python\n",
    "## Python\n",
    "### Python\n",
    "#### Python\n",
    "##### Python\n",
    "###### Python\n"
   ]
  },
  {
   "cell_type": "markdown",
   "metadata": {},
   "source": [
    "### Markdown Format\n",
    "* **Python**\n",
    "* ***Python***\n"
   ]
  },
  {
   "cell_type": "code",
   "execution_count": 6,
   "metadata": {},
   "outputs": [
    {
     "data": {
      "text/plain": [
       "10"
      ]
     },
     "execution_count": 6,
     "metadata": {},
     "output_type": "execute_result"
    }
   ],
   "source": [
    "#### variables\n",
    "a=10\n",
    "a"
   ]
  },
  {
   "cell_type": "code",
   "execution_count": 7,
   "metadata": {},
   "outputs": [
    {
     "data": {
      "text/plain": [
       "15"
      ]
     },
     "execution_count": 7,
     "metadata": {},
     "output_type": "execute_result"
    }
   ],
   "source": [
    "a=5\n",
    "b=10\n",
    "c=a+b\n",
    "c\n"
   ]
  },
  {
   "cell_type": "code",
   "execution_count": 8,
   "metadata": {},
   "outputs": [
    {
     "name": "stdout",
     "output_type": "stream",
     "text": [
      "22\n",
      "34\n"
     ]
    },
    {
     "data": {
      "text/plain": [
       "'34'"
      ]
     },
     "execution_count": 8,
     "metadata": {},
     "output_type": "execute_result"
    }
   ],
   "source": [
    "##Dynamic\n",
    "a=input()\n",
    "b=input()\n",
    "a\n",
    "b"
   ]
  },
  {
   "cell_type": "code",
   "execution_count": 1,
   "metadata": {},
   "outputs": [
    {
     "name": "stdout",
     "output_type": "stream",
     "text": [
      "34\n",
      "56\n",
      "34\n",
      "56\n"
     ]
    }
   ],
   "source": [
    "a=input()\n",
    "b=input()\n",
    "print(a)\n",
    "print(b)"
   ]
  },
  {
   "cell_type": "code",
   "execution_count": 2,
   "metadata": {},
   "outputs": [
    {
     "data": {
      "text/plain": [
       "str"
      ]
     },
     "execution_count": 2,
     "metadata": {},
     "output_type": "execute_result"
    }
   ],
   "source": [
    "type(a)"
   ]
  },
  {
   "cell_type": "code",
   "execution_count": 1,
   "metadata": {
    "scrolled": true
   },
   "outputs": [
    {
     "name": "stdout",
     "output_type": "stream",
     "text": [
      "3\n",
      "4\n",
      "34\n"
     ]
    }
   ],
   "source": [
    "a=input()\n",
    "b=input()\n",
    "c=a+b\n",
    "print(c)"
   ]
  },
  {
   "cell_type": "code",
   "execution_count": 4,
   "metadata": {},
   "outputs": [
    {
     "name": "stdout",
     "output_type": "stream",
     "text": [
      "3\n",
      "4\n",
      "7\n"
     ]
    }
   ],
   "source": [
    "a=int(input())\n",
    "b=int(input())\n",
    "c=a+b\n",
    "print(c)"
   ]
  },
  {
   "cell_type": "code",
   "execution_count": 3,
   "metadata": {},
   "outputs": [
    {
     "name": "stdout",
     "output_type": "stream",
     "text": [
      "welcome to vignan\n"
     ]
    }
   ],
   "source": [
    "v='vignan'\n",
    "print(\"welcome to\",v)"
   ]
  },
  {
   "cell_type": "code",
   "execution_count": null,
   "metadata": {},
   "outputs": [
    {
     "name": "stdout",
     "output_type": "stream",
     "text": [
      "\n",
      "Welcome to Python 3.8's help utility!\n",
      "\n",
      "If this is your first time using Python, you should definitely check out\n",
      "the tutorial on the Internet at https://docs.python.org/3.8/tutorial/.\n",
      "\n",
      "Enter the name of any module, keyword, or topic to get help on writing\n",
      "Python programs and using Python modules.  To quit this help utility and\n",
      "return to the interpreter, just type \"quit\".\n",
      "\n",
      "To get a list of available modules, keywords, symbols, or topics, type\n",
      "\"modules\", \"keywords\", \"symbols\", or \"topics\".  Each module also comes\n",
      "with a one-line summary of what it does; to list the modules whose name\n",
      "or summary contain a given string such as \"spam\", type \"modules spam\".\n",
      "\n",
      "help> keywords\n",
      "\n",
      "Here is a list of the Python keywords.  Enter any keyword to get more help.\n",
      "\n",
      "False               class               from                or\n",
      "None                continue            global              pass\n",
      "True                def                 if                  raise\n",
      "and                 del                 import              return\n",
      "as                  elif                in                  try\n",
      "assert              else                is                  while\n",
      "async               except              lambda              with\n",
      "await               finally             nonlocal            yield\n",
      "break               for                 not                 \n",
      "\n",
      "help> modules\n",
      "\n",
      "Please wait a moment while I gather a list of all available modules...\n",
      "\n"
     ]
    },
    {
     "name": "stderr",
     "output_type": "stream",
     "text": [
      "C:\\Users\\BSHDEO\\anaconda3\\lib\\site-packages\\IPython\\kernel\\__init__.py:12: ShimWarning: The `IPython.kernel` package has been deprecated since IPython 4.0.You should import from ipykernel or jupyter_client instead.\n",
      "  warn(\"The `IPython.kernel` package has been deprecated since IPython 4.0.\"\n",
      "Matplotlib is building the font cache; this may take a moment.\n",
      "C:\\Users\\BSHDEO\\anaconda3\\lib\\pkgutil.py:92: MatplotlibDeprecationWarning: \n",
      "The matplotlib.compat module was deprecated in Matplotlib 3.3 and will be removed two minor releases later.\n",
      "  __import__(info.name)\n",
      "C:\\Users\\BSHDEO\\anaconda3\\lib\\site-packages\\nltk\\twitter\\__init__.py:21: UserWarning: The twython library has not been installed. Some functionality from the twitter package will not be available.\n",
      "  warnings.warn(\n",
      "C:\\Users\\BSHDEO\\anaconda3\\lib\\site-packages\\skimage\\viewer\\utils\\__init__.py:1: UserWarning:\n",
      "\n",
      "Recommended matplotlib backend is `Agg` for full skimage.viewer functionality.\n",
      "\n"
     ]
    },
    {
     "name": "stdout",
     "output_type": "stream",
     "text": [
      "Update LANGUAGE_CODES (inside config/base.py) if a new translation has been added to Spyder\n"
     ]
    },
    {
     "name": "stderr",
     "output_type": "stream",
     "text": [
      "C:\\Users\\BSHDEO\\anaconda3\\lib\\site-packages\\qtawesome\\iconic_font.py:311: UserWarning:\n",
      "\n",
      "You need to have a running QApplication to use QtAwesome!\n",
      "\n",
      "C:\\Users\\BSHDEO\\anaconda3\\lib\\pkgutil.py:107: VisibleDeprecationWarning:\n",
      "\n",
      "zmq.eventloop.minitornado is deprecated in pyzmq 14.0 and will be removed.\n",
      "    Install tornado itself to use zmq with the tornado IOLoop.\n",
      "    \n",
      "\n"
     ]
    },
    {
     "name": "stdout",
     "output_type": "stream",
     "text": [
      "Cython              brain_re            mailbox             sklearn\n",
      "IPython             brain_responses     mailcap             smtpd\n",
      "OpenGL              brain_scipy_signal  markupsafe          smtplib\n",
      "OpenSSL             brain_six           marshal             sndhdr\n",
      "PIL                 brain_ssl           math                snowballstemmer\n",
      "PyQt5               brain_subprocess    matplotlib          socket\n",
      "__future__          brain_threading     mccabe              socketserver\n",
      "_abc                brain_typing        menuinst            socks\n",
      "_ast                brain_uuid          mimetypes           sockshandler\n",
      "_asyncio            brotli              mistune             sortedcollections\n",
      "_bisect             bs4                 mkl                 sortedcontainers\n",
      "_blake2             builtins            mkl_fft             soupsieve\n",
      "_bootlocale         bz2                 mkl_random          sphinx\n",
      "_bz2                cProfile            mmap                sphinxcontrib\n",
      "_cffi_backend       calendar            mmapfile            spyder\n",
      "_codecs             certifi             mmsystem            spyder_kernels\n",
      "_codecs_cn          cffi                mock                sqlalchemy\n",
      "_codecs_hk          cgi                 modulefinder        sqlite3\n",
      "_codecs_iso2022     cgitb               more_itertools      sre_compile\n",
      "_codecs_jp          chardet             mpl_scatter_density sre_constants\n",
      "_codecs_kr          chunk               mpmath              sre_parse\n",
      "_codecs_tw          click               msgpack             ssl\n",
      "_collections        cloudpickle         msilib              sspi\n",
      "_collections_abc    clyent              msvcrt              sspicon\n",
      "_compat_pickle      cmath               multipledispatch    stat\n",
      "_compression        cmd                 multiprocessing     statistics\n",
      "_contextvars        code                nacl                statsmodels\n",
      "_csv                codecs              navigator_updater   storemagic\n",
      "_ctypes             codeop              nbclient            string\n",
      "_ctypes_test        collections         nbconvert           stringprep\n",
      "_datetime           colorama            nbformat            struct\n",
      "_decimal            colorsys            nest_asyncio        subprocess\n",
      "_distutils_hack     commctrl            netbios             sunau\n",
      "_dummy_thread       compileall          netrc               symbol\n",
      "_elementtree        comtypes            networkx            sympy\n",
      "_functools          concurrent          nltk                sympyprinting\n",
      "_hashlib            conda               nntplib             symtable\n",
      "_heapq              conda_build         nose                sys\n",
      "_imp                conda_env           notebook            sysconfig\n",
      "_io                 conda_package_handling nt                  tables\n",
      "_json               conda_verify        ntpath              tabnanny\n",
      "_locale             configparser        ntsecuritycon       tarfile\n",
      "_lsprof             contextlib          nturl2path          tblib\n",
      "_lzma               contextlib2         numba               telnetlib\n",
      "_markupbase         contextvars         numbers             tempfile\n",
      "_md5                copy                numexpr             terminado\n",
      "_msi                copyreg             numpy               test\n",
      "_multibytecodec     crypt               numpydoc            test_data\n",
      "_multiprocessing    cryptography        odbc                test_pycosat\n",
      "_nsis               csv                 olefile             testpath\n",
      "_opcode             ctypes              opcode              tests\n",
      "_operator           curl                openpyxl            textwrap\n",
      "_osx_support        curses              operator            this\n",
      "_overlapped         cwp                 optparse            threading\n",
      "_pickle             cycler              os                  threadpoolctl\n",
      "_plotly_future_     cython              packaging           time\n",
      "_plotly_utils       cythonmagic         pandas              timeit\n",
      "_py_abc             cytoolz             pandocfilters       timer\n",
      "_pydecimal          dask                paramiko            tkinter\n",
      "_pyio               dataclasses         parser              tlz\n",
      "_pyrsistent_version datetime            parso               token\n",
      "_pytest             dateutil            partd               tokenize\n",
      "_queue              dbi                 past                toml\n",
      "_random             dbm                 path                toolz\n",
      "_sha1               dde                 pathlib             tornado\n",
      "_sha256             decimal             pathlib2            tqdm\n",
      "_sha3               decorator           pathtools           trace\n",
      "_sha512             defusedxml          patsy               traceback\n",
      "_signal             diff_match_patch    pdb                 tracemalloc\n",
      "_sitebuiltins       difflib             pep8                traitlets\n",
      "_socket             dill                perfmon             tty\n",
      "_sqlite3            dis                 pexpect             turtle\n",
      "_sre                distributed         pickle              turtledemo\n",
      "_ssl                distutils           pickleshare         types\n",
      "_stat               doctest             pickletools         typing\n",
      "_statistics         docutils            pip                 typing_extensions\n",
      "_string             dummy_threading     pipes               ujson\n",
      "_strptime           easy_install        pkg_resources       unicodecsv\n",
      "_struct             email               pkginfo             unicodedata\n",
      "_symtable           encodings           pkgutil             unittest\n",
      "_system_path        ensurepip           platform            urllib\n",
      "_testbuffer         entrypoints         plistlib            urllib3\n",
      "_testcapi           enum                plotly              uu\n",
      "_testconsole        errno               plotlywidget        uuid\n",
      "_testimportmultiple et_xmlfile          pluggy              venv\n",
      "_testinternalcapi   fast_histogram      ply                 warnings\n",
      "_testmultiphase     fastcache           poplib              watchdog\n",
      "_thread             faulthandler        posixpath           wave\n",
      "_threading_local    filecmp             pprint              wcwidth\n",
      "_tkinter            fileinput           profile             weakref\n",
      "_tracemalloc        filelock            prometheus_client   webbrowser\n",
      "_warnings           flake8              prompt_toolkit      webencodings\n",
      "_weakref            flask               pstats              werkzeug\n",
      "_weakrefset         fnmatch             psutil              wheel\n",
      "_win32sysloader     formatter           pty                 widgetsnbextension\n",
      "_winapi             fractions           pvectorc            win2kras\n",
      "_winxptheme         fsspec              py                  win32api\n",
      "_xxsubinterpreters  ftplib              py_compile          win32clipboard\n",
      "_yaml               functools           pyclbr              win32com\n",
      "abc                 future              pycodestyle         win32con\n",
      "adodbapi            gc                  pycosat             win32console\n",
      "afxres              genericpath         pycparser           win32cred\n",
      "aifc                getopt              pycurl              win32crypt\n",
      "alabaster           getpass             pydoc               win32cryptcon\n",
      "anaconda_navigator  gettext             pydoc_data          win32ctypes\n",
      "anaconda_project    gevent              pydocstyle          win32event\n",
      "antigravity         glob                pyexpat             win32evtlog\n",
      "argh                glob2               pyflakes            win32evtlogutil\n",
      "argon2              glue                pygments            win32file\n",
      "argparse            glue_vispy_viewers  pylab               win32gui\n",
      "array               greenlet            pylint              win32gui_struct\n",
      "asn1crypto          gzip                pyls                win32help\n",
      "ast                 h5py                pyls_jsonrpc        win32inet\n",
      "astroid             hashlib             pyodbc              win32inetcon\n",
      "astropy             heapdict            pyparsing           win32job\n",
      "async_generator     heapq               pyreadline          win32lz\n",
      "asynchat            hmac                pyrsistent          win32net\n",
      "asyncio             html                pytest              win32netcon\n"
     ]
    },
    {
     "name": "stdout",
     "output_type": "stream",
     "text": [
      "asyncore            html5lib            pythoncom           win32pdh\n",
      "atexit              http                pytz                win32pdhquery\n",
      "atomicwrites        idlelib             pywin               win32pdhutil\n",
      "attr                idna                pywin32_bootstrap   win32pipe\n",
      "audioop             imageio             pywin32_testutil    win32print\n",
      "autopep8            imagesize           pywintypes          win32process\n",
      "autoreload          imaplib             pywt                win32profile\n",
      "babel               imghdr              pyximport           win32ras\n",
      "backcall            imp                 qdarkstyle          win32rcparser\n",
      "backports           importlib           qtawesome           win32security\n",
      "base64              importlib_metadata  qtconsole           win32service\n",
      "bcrypt              iniconfig           qtpy                win32serviceutil\n",
      "bdb                 inspect             queue               win32timezone\n",
      "binascii            intervaltree        quopri              win32trace\n",
      "binhex              io                  random              win32traceutil\n",
      "binstar_client      ipaddress           rasutil             win32transaction\n",
      "bisect              ipykernel           re                  win32ts\n",
      "bitarray            ipykernel_launcher  readline            win32ui\n",
      "bkcharts            ipython_genutils    regcheck            win32uiole\n",
      "bleach              ipywidgets          regex               win32verstamp\n",
      "bokeh               isapi               regutil             win32wnet\n",
      "boto                isort               reprlib             win_inet_pton\n",
      "bottleneck          isympy              requests            win_unicode_console\n",
      "brain_argparse      itertools           retrying            wincertstore\n",
      "brain_attrs         itsdangerous        rlcompleter         winerror\n",
      "brain_boto3         jdcal               rmagic              winioctlcon\n",
      "brain_builtin_inference jedi                rope                winnt\n",
      "brain_collections   jinja2              rtree               winperf\n",
      "brain_crypt         joblib              ruamel_yaml         winpty\n",
      "brain_curses        json                run                 winreg\n",
      "brain_dataclasses   json5               runpy               winsound\n",
      "brain_dateutil      jsonschema          sample              winxpgui\n",
      "brain_fstrings      jupyter             sched               winxptheme\n",
      "brain_functools     jupyter_client      scipy               wrapt\n",
      "brain_gi            jupyter_console     scripts             wsgiref\n",
      "brain_hashlib       jupyter_core        seaborn             xdrlib\n",
      "brain_http          jupyterlab          secrets             xlrd\n",
      "brain_io            jupyterlab_pygments select              xlsxwriter\n",
      "brain_mechanize     jupyterlab_server   selectors           xlwings\n",
      "brain_multiprocessing keyring             send2trash          xlwt\n",
      "brain_namedtuple_enum keyword             servicemanager      xml\n",
      "brain_nose          kiwisolver          setuptools          xmlrpc\n",
      "brain_numpy_core_fromnumeric lazy_object_proxy   shelve              xmltodict\n",
      "brain_numpy_core_function_base lib2to3             shlex               xxsubtype\n",
      "brain_numpy_core_multiarray libarchive          shutil              yaml\n",
      "brain_numpy_core_numeric libfuturize         signal              yapf\n",
      "brain_numpy_core_numerictypes libpasteurize       simplegeneric       yapftests\n",
      "brain_numpy_core_umath lief                singledispatch      zict\n",
      "brain_numpy_ndarray linecache           singledispatch_helpers zipapp\n",
      "brain_numpy_random_mtrand llvmlite            sip                 zipfile\n",
      "brain_numpy_utils   locale              sipconfig           zipimport\n",
      "brain_pkg_resources locket              sipdistutils        zipp\n",
      "brain_pytest        logging             site                zlib\n",
      "brain_qt            lxml                six                 zmq\n",
      "brain_random        lzma                skimage             zope\n",
      "\n",
      "Enter any module name to get more help.  Or, type \"modules spam\" to search\n",
      "for modules whose name or summary contain the string \"spam\".\n",
      "\n"
     ]
    }
   ],
   "source": [
    "help()"
   ]
  },
  {
   "cell_type": "code",
   "execution_count": 1,
   "metadata": {},
   "outputs": [
    {
     "data": {
      "text/plain": [
       "True"
      ]
     },
     "execution_count": 1,
     "metadata": {},
     "output_type": "execute_result"
    }
   ],
   "source": [
    "import webbrowser\n",
    "webbrowser.open('http:\\\\www.google.com')\n"
   ]
  },
  {
   "cell_type": "code",
   "execution_count": 1,
   "metadata": {},
   "outputs": [
    {
     "data": {
      "text/plain": [
       "'Thu Apr 15 12:25:07 2021'"
      ]
     },
     "execution_count": 1,
     "metadata": {},
     "output_type": "execute_result"
    }
   ],
   "source": [
    "import time\n",
    "time.ctime()"
   ]
  },
  {
   "cell_type": "code",
   "execution_count": null,
   "metadata": {},
   "outputs": [],
   "source": []
  }
 ],
 "metadata": {
  "kernelspec": {
   "display_name": "Python 3",
   "language": "python",
   "name": "python3"
  },
  "language_info": {
   "codemirror_mode": {
    "name": "ipython",
    "version": 3
   },
   "file_extension": ".py",
   "mimetype": "text/x-python",
   "name": "python",
   "nbconvert_exporter": "python",
   "pygments_lexer": "ipython3",
   "version": "3.8.5"
  }
 },
 "nbformat": 4,
 "nbformat_minor": 4
}
