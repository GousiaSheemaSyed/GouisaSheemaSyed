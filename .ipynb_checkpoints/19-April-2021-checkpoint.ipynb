{
 "cells": [
  {
   "cell_type": "code",
   "execution_count": 1,
   "metadata": {},
   "outputs": [
    {
     "name": "stdout",
     "output_type": "stream",
     "text": [
      "enter number:5\n",
      "* \n",
      "\n",
      "* * \n",
      "\n",
      "* * * \n",
      "\n",
      "* * * * \n",
      "\n",
      "* * * * * \n",
      "\n"
     ]
    }
   ],
   "source": [
    "n=int(input(\"enter number:\"))\n",
    "for i in range(1,n+1):\n",
    "    for j in range(1,i+1):\n",
    "        print(\"*\",end=\" \")\n",
    "    print(\"\\n\")"
   ]
  },
  {
   "cell_type": "code",
   "execution_count": 2,
   "metadata": {},
   "outputs": [
    {
     "name": "stdout",
     "output_type": "stream",
     "text": [
      "enter number:5\n",
      "* * * * * \n",
      "\n",
      "* * * * \n",
      "\n",
      "* * * \n",
      "\n",
      "* * \n",
      "\n",
      "* \n",
      "\n"
     ]
    }
   ],
   "source": [
    "n=int(input(\"enter number:\"))\n",
    "for i in range(n,0,-1):\n",
    "    for j in range(1,i+1):\n",
    "        print(\"*\",end=\" \")\n",
    "    print(\"\\n\")"
   ]
  },
  {
   "cell_type": "code",
   "execution_count": 4,
   "metadata": {},
   "outputs": [
    {
     "name": "stdout",
     "output_type": "stream",
     "text": [
      "enter number:5\n",
      "* \n",
      "\n",
      "* * \n",
      "\n",
      "* * * \n",
      "\n",
      "* * * * \n",
      "\n",
      "* * * * * \n",
      "\n",
      "* * * * \n",
      "\n",
      "* * * \n",
      "\n",
      "* * \n",
      "\n",
      "* \n",
      "\n"
     ]
    }
   ],
   "source": [
    "n=int(input(\"enter number:\"))\n",
    "for i in range(1,n+1):\n",
    "    for j in range(1,i+1):\n",
    "        print(\"*\",end=\" \")\n",
    "    print(\"\\n\")\n",
    "\n",
    "for i in range(n-1,0,-1):\n",
    "    for j in range(1,i+1):\n",
    "        print(\"*\",end=\" \")()\n",
    "    print(\"\\n\")"
   ]
  },
  {
   "cell_type": "markdown",
   "metadata": {},
   "source": [
    "### OBJECT ORIENTED PROGRAMMING LANGUAGE\n",
    "* Class\n",
    "\n",
    "\n",
    " * collection of variables and methods\n",
    " * syntax\n",
    " * class classanme:\n",
    "        '''documentation'''\n",
    "        variables\n",
    "        methods\n",
    " * rules\n",
    " * should be captial\n",
    " * doesnot allow spaces\n",
    " * doesnot allows keywords\n",
    "    "
   ]
  },
  {
   "cell_type": "code",
   "execution_count": 7,
   "metadata": {},
   "outputs": [
    {
     "name": "stdout",
     "output_type": "stream",
     "text": [
      "10\n",
      "From exmp function\n",
      "BASIC EXAMPLE\n"
     ]
    }
   ],
   "source": [
    "class Exm:\n",
    "    '''BASIC EXAMPLE'''\n",
    "    a=10\n",
    "    def exmp():\n",
    "        return 'From exmp function'\n",
    "print(Exm.a)\n",
    "print(Exm.exmp())\n",
    "print(Exm.__doc__)\n",
    "    "
   ]
  },
  {
   "cell_type": "code",
   "execution_count": 19,
   "metadata": {},
   "outputs": [
    {
     "name": "stdout",
     "output_type": "stream",
     "text": [
      "4\n",
      "24\n"
     ]
    }
   ],
   "source": [
    "class Task:\n",
    "    n=4\n",
    "    def factorial(n):\n",
    "        fact=1\n",
    "        for i in range(1,n+1):\n",
    "            fact=fact*i\n",
    "        return (fact)\n",
    "print(Task.n)\n",
    "print(Task.factorial(4))"
   ]
  },
  {
   "cell_type": "code",
   "execution_count": 10,
   "metadata": {},
   "outputs": [
    {
     "name": "stdout",
     "output_type": "stream",
     "text": [
      "factorial: 120\n"
     ]
    }
   ],
   "source": [
    "class A:\n",
    "    def factorial(self,a):\n",
    "        fact=1\n",
    "        for i in range(1,a+1):\n",
    "            fact=fact*i\n",
    "        print(\"factorial:\",fact)\n",
    "a=A()\n",
    "a.factorial(5)"
   ]
  },
  {
   "cell_type": "code",
   "execution_count": 18,
   "metadata": {},
   "outputs": [
    {
     "name": "stdout",
     "output_type": "stream",
     "text": [
      "enter a number6\n",
      "perfect number\n"
     ]
    }
   ],
   "source": [
    "class B:\n",
    "    \n",
    "    def perfect_num():\n",
    "        n=int(input(\"enter a number\"))\n",
    "        sum=0\n",
    "        for i in range(1,n):\n",
    "             if n%i==0:\n",
    "                sum+=i\n",
    "        if sum==n:\n",
    "            return (\"perfect number\")\n",
    "        else:\n",
    "            return (\"not perfect number\")\n",
    "\n",
    "print(B.perfect_num())"
   ]
  },
  {
   "cell_type": "code",
   "execution_count": 25,
   "metadata": {},
   "outputs": [
    {
     "name": "stdout",
     "output_type": "stream",
     "text": [
      "enter a number5\n",
      "prime number\n"
     ]
    }
   ],
   "source": [
    "class A:\n",
    "    def prime():\n",
    "        n=int(input(\"enter a number\"))\n",
    "        flag=0\n",
    "        if n==1:\n",
    "             return (\"neither prime nor composite\")\n",
    "        if n>1:\n",
    "            for i in range(2,n):\n",
    "                if n%i==0:\n",
    "                    flag=1\n",
    "                    break\n",
    "            if flag==1:\n",
    "                return (\"not prime number\")\n",
    "            else:\n",
    "                return (\"prime number\")\n",
    "print(A.prime())\n",
    "\n"
   ]
  },
  {
   "cell_type": "code",
   "execution_count": 27,
   "metadata": {},
   "outputs": [
    {
     "name": "stdout",
     "output_type": "stream",
     "text": [
      "Using only self\n",
      "welcome <__main__.NonParacons object at 0x0368DE68>\n"
     ]
    }
   ],
   "source": [
    "class NonParacons:\n",
    "    def __init__(self):\n",
    "        print(\"Using only self\")\n",
    "    def show(name):\n",
    "        print('welcome',name)\n",
    "np=NonParacons()\n",
    "np.show()"
   ]
  },
  {
   "cell_type": "code",
   "execution_count": null,
   "metadata": {},
   "outputs": [],
   "source": [
    "def __init(a,self,b):\n",
    "    "
   ]
  },
  {
   "cell_type": "code",
   "execution_count": 28,
   "metadata": {},
   "outputs": [
    {
     "data": {
      "text/plain": [
       "11"
      ]
     },
     "execution_count": 28,
     "metadata": {},
     "output_type": "execute_result"
    }
   ],
   "source": [
    "class Paracons:\n",
    "    def __init__(self,a,b):\n",
    "        self.a=a\n",
    "        self.b=b\n",
    "    def add(self):\n",
    "        return self.a+self.b\n",
    "p=Paracons(10,1)\n",
    "p.add()"
   ]
  },
  {
   "cell_type": "code",
   "execution_count": 32,
   "metadata": {},
   "outputs": [
    {
     "name": "stdout",
     "output_type": "stream",
     "text": [
      "from child class\n",
      "from parent class\n"
     ]
    }
   ],
   "source": [
    "class A:\n",
    "    a=1\n",
    "    def ca():\n",
    "        return \"from parent class\"\n",
    "class B(A):\n",
    "    b=2\n",
    "    def cb():\n",
    "        return \"from child class\"\n",
    "obj=B\n",
    "print(obj.cb())\n",
    "print(obj.ca())\n",
    "    "
   ]
  },
  {
   "cell_type": "markdown",
   "metadata": {},
   "source": [
    "### SINGLE INHERITANCE"
   ]
  },
  {
   "cell_type": "code",
   "execution_count": 30,
   "metadata": {},
   "outputs": [
    {
     "name": "stdout",
     "output_type": "stream",
     "text": [
      "from second\n"
     ]
    }
   ],
   "source": [
    "class Multicoin():\n",
    "    def __init__(self):\n",
    "        print(\"from first constructor\")\n",
    "    def __init__(self):\n",
    "        print(\"from second\")\n",
    "m=Multicoin()"
   ]
  },
  {
   "cell_type": "markdown",
   "metadata": {},
   "source": [
    "### multiple inheritance"
   ]
  },
  {
   "cell_type": "code",
   "execution_count": 34,
   "metadata": {},
   "outputs": [
    {
     "name": "stdout",
     "output_type": "stream",
     "text": [
      "from class c\n",
      "from child class\n",
      "from parent class\n"
     ]
    }
   ],
   "source": [
    "class A:\n",
    "    a=1\n",
    "    def ca():\n",
    "        return \"from parent class\"\n",
    "class B(A):\n",
    "    b=2\n",
    "    def cb():\n",
    "        return \"from child class\"\n",
    "class C(B):\n",
    "    c=4\n",
    "    def cc():\n",
    "        return \"from class c\"\n",
    "obj1=C\n",
    "print(obj1.cc())\n",
    "print(obj1.cb())\n",
    "print(obj1.ca())\n",
    "    "
   ]
  },
  {
   "cell_type": "markdown",
   "metadata": {},
   "source": [
    "### HEIRARICHAL INHERITANCE"
   ]
  },
  {
   "cell_type": "code",
   "execution_count": 35,
   "metadata": {},
   "outputs": [
    {
     "name": "stdout",
     "output_type": "stream",
     "text": [
      " from class C\n",
      " from class B\n"
     ]
    }
   ],
   "source": [
    "class A():\n",
    "    def ca():\n",
    "        return \" from class A\"\n",
    "class B(A):\n",
    "    def cb():\n",
    "        return \" from class B\"\n",
    "class C(A):\n",
    "    def cc():\n",
    "        return \" from class C\"\n",
    "d=C\n",
    "d1=B\n",
    "print(d.cc())\n",
    "print(d1.cb())"
   ]
  },
  {
   "cell_type": "code",
   "execution_count": 36,
   "metadata": {},
   "outputs": [
    {
     "data": {
      "text/plain": [
       "15"
      ]
     },
     "execution_count": 36,
     "metadata": {},
     "output_type": "execute_result"
    }
   ],
   "source": [
    "from package.module import MyMath\n",
    "ob=MyMath(7,8)\n",
    "ob.add()"
   ]
  },
  {
   "cell_type": "code",
   "execution_count": 39,
   "metadata": {},
   "outputs": [
    {
     "name": "stdout",
     "output_type": "stream",
     "text": [
      "['MyMath', '__builtins__', '__cached__', '__doc__', '__file__', '__loader__', '__name__', '__package__', '__spec__', 'duplicate', 'unique']\n"
     ]
    }
   ],
   "source": [
    "from package import module\n",
    "print(dir(module))"
   ]
  },
  {
   "cell_type": "code",
   "execution_count": null,
   "metadata": {},
   "outputs": [],
   "source": []
  }
 ],
 "metadata": {
  "kernelspec": {
   "display_name": "Python 3",
   "language": "python",
   "name": "python3"
  }
 },
 "nbformat": 4,
 "nbformat_minor": 4
}
