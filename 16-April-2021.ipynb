{
 "cells": [
  {
   "cell_type": "markdown",
   "metadata": {},
   "source": [
    "### Loops"
   ]
  },
  {
   "cell_type": "markdown",
   "metadata": {},
   "source": [
    "# syntax of  for\n",
    "for i in range(): --------> for integer values\n",
    "    \n",
    "for i in variable_name: ---------> input in string format"
   ]
  },
  {
   "cell_type": "code",
   "execution_count": 4,
   "metadata": {},
   "outputs": [
    {
     "name": "stdout",
     "output_type": "stream",
     "text": [
      "0 1 2 3 4 5 6 7 8 9 "
     ]
    }
   ],
   "source": [
    "#print first 10 numbers(single parameter)\n",
    "for i in range(10):\n",
    "    print(i,end=' ')"
   ]
  },
  {
   "cell_type": "code",
   "execution_count": 7,
   "metadata": {},
   "outputs": [
    {
     "name": "stdout",
     "output_type": "stream",
     "text": [
      "1  \n",
      "2  \n",
      "3  \n",
      "4  \n",
      "5  \n",
      "6  \n",
      "7  \n",
      "8  \n",
      "9  \n",
      "10  \n"
     ]
    }
   ],
   "source": [
    "# two parameters\n",
    "for i in range(1,11):\n",
    "    print(i)"
   ]
  },
  {
   "cell_type": "code",
   "execution_count": 9,
   "metadata": {},
   "outputs": [
    {
     "name": "stdout",
     "output_type": "stream",
     "text": [
      "2 4 6 8 10 "
     ]
    }
   ],
   "source": [
    "for i in range(2,11,2):\n",
    "    print(i,end=' ')"
   ]
  },
  {
   "cell_type": "code",
   "execution_count": 5,
   "metadata": {},
   "outputs": [
    {
     "name": "stdout",
     "output_type": "stream",
     "text": [
      "1\n",
      "11\n",
      "2 4 6 8 10 "
     ]
    }
   ],
   "source": [
    "# even numbers\n",
    "a=int(input())\n",
    "b=int(input())\n",
    "for i in range(a,b):\n",
    "    if (i%2==0):\n",
    "        print(i,end=' ')"
   ]
  },
  {
   "cell_type": "code",
   "execution_count": 20,
   "metadata": {},
   "outputs": [
    {
     "name": "stdout",
     "output_type": "stream",
     "text": [
      "5\n",
      "7\n",
      "18\n",
      "6.0\n"
     ]
    }
   ],
   "source": [
    "# sum and average in given range of numbers\n",
    "a=int(input())\n",
    "b=int(input())\n",
    "sum=0\n",
    "count=0\n",
    "for i in range(a,b+1):\n",
    "    sum=sum+i\n",
    "    count+=1\n",
    "print(sum)\n",
    "average=sum/count\n",
    "print(average)"
   ]
  },
  {
   "cell_type": "code",
   "execution_count": 12,
   "metadata": {},
   "outputs": [
    {
     "name": "stdout",
     "output_type": "stream",
     "text": [
      "5\n",
      "1 2 3 4 \n",
      "average is: 2.0\n"
     ]
    }
   ],
   "source": [
    "# print n natural numbers and average of that numbers\n",
    "n=int(input())\n",
    "sum=0\n",
    "for i in range(1,n):\n",
    "    print(i, end=' ')\n",
    "    sum=sum+i\n",
    "average=sum/n\n",
    "print(\"\\naverage is:\",average)"
   ]
  },
  {
   "cell_type": "code",
   "execution_count": 23,
   "metadata": {},
   "outputs": [
    {
     "name": "stdout",
     "output_type": "stream",
     "text": [
      "1\n",
      "5\n",
      "6\n",
      "3.0\n"
     ]
    }
   ],
   "source": [
    "a=int(input())\n",
    "b=int(input())\n",
    "sum=0\n",
    "count=0\n",
    "for i in range(a,b+1):\n",
    "    if(i%2==0):\n",
    "        sum=sum+i\n",
    "        count+=1\n",
    "print(sum)\n",
    "average=sum/count\n",
    "print(average)"
   ]
  },
  {
   "cell_type": "code",
   "execution_count": 3,
   "metadata": {},
   "outputs": [
    {
     "name": "stdout",
     "output_type": "stream",
     "text": [
      "5\n",
      "7\n",
      "18\n",
      "6.0\n"
     ]
    }
   ],
   "source": [
    "# adition of two strings\n",
    "a=input()\n",
    "b=input()\n",
    "sum=0\n",
    "count=0\n",
    "for i in range(int(a),int(b)+1):\n",
    "    sum=sum+int(i)\n",
    "    count+=1\n",
    "print(sum)\n",
    "average=sum/count\n",
    "print(average)"
   ]
  },
  {
   "cell_type": "code",
   "execution_count": 6,
   "metadata": {},
   "outputs": [
    {
     "name": "stdout",
     "output_type": "stream",
     "text": [
      "1\n",
      "fact=1\n"
     ]
    }
   ],
   "source": [
    "#print factorial of number\n",
    "n=int(input())\n",
    "fact=1\n",
    "if n==0 or n==1:\n",
    "    print(\"fact=1\")\n",
    "else:\n",
    "    \n",
    "    for i in range(1,n+1):\n",
    "        fact=fact*i\n",
    "    print(fact)"
   ]
  },
  {
   "cell_type": "code",
   "execution_count": 28,
   "metadata": {},
   "outputs": [
    {
     "name": "stdout",
     "output_type": "stream",
     "text": [
      "10\n",
      "not prime number\n"
     ]
    }
   ],
   "source": [
    "n=int(input())\n",
    "flag=0\n",
    "if n==1:\n",
    "    print(\"neither prime nor composite\")\n",
    "if n>1:\n",
    "    for i in range(2,n):\n",
    "        if n%i==0:\n",
    "            flag=1\n",
    "            break\n",
    "    if flag==1:\n",
    "        print(\"not prime number\")\n",
    "    else:\n",
    "        print(\"prime number\")\n"
   ]
  },
  {
   "cell_type": "code",
   "execution_count": 34,
   "metadata": {},
   "outputs": [
    {
     "name": "stdout",
     "output_type": "stream",
     "text": [
      "6\n",
      "perfect number\n"
     ]
    }
   ],
   "source": [
    "# perfect number or not\n",
    "n=int(input())\n",
    "sum=0\n",
    "for i in range(1,n):\n",
    "    if n%i==0:\n",
    "        sum+=i\n",
    "if sum==n:\n",
    "    print(\"perfect number\")\n",
    "else:\n",
    "    print(\"not a perfect number\")\n",
    "        "
   ]
  },
  {
   "cell_type": "code",
   "execution_count": 39,
   "metadata": {},
   "outputs": [
    {
     "name": "stdout",
     "output_type": "stream",
     "text": [
      "5\n",
      "120\n"
     ]
    }
   ],
   "source": [
    "n=int(input())\n",
    "sum=0\n",
    "fact=1\n",
    "if n%2==0:\n",
    "    for i in range(1,n):\n",
    "         if n%i==0:\n",
    "            sum+=i\n",
    "    if sum==n:\n",
    "        print(\"perfect number\")\n",
    "    else:\n",
    "        print(\"not perfect number\")\n",
    "else:\n",
    "    for i in range(1,n+1):\n",
    "        fact=fact*i\n",
    "    print(fact)\n",
    "    "
   ]
  },
  {
   "cell_type": "code",
   "execution_count": 44,
   "metadata": {},
   "outputs": [
    {
     "name": "stdout",
     "output_type": "stream",
     "text": [
      "6\n",
      "perfect number\n"
     ]
    }
   ],
   "source": [
    "n=input()\n",
    "sum=0\n",
    "fact=1\n",
    "if int(n)%2==0:\n",
    "    for i in range(1,int(n)):\n",
    "         if int(n)%int(i)==0:\n",
    "            sum+=int(i)\n",
    "    if sum==int(n):\n",
    "        print(\"perfect number\")\n",
    "    else:\n",
    "        print(\"not perfect number\")\n",
    "else:\n",
    "    for i in range(1,int(n)+1):\n",
    "        fact=fact*int(i)\n",
    "    print(fact)\n",
    "  "
   ]
  },
  {
   "cell_type": "markdown",
   "metadata": {},
   "source": [
    "##### "
   ]
  },
  {
   "cell_type": "code",
   "execution_count": 46,
   "metadata": {},
   "outputs": [
    {
     "name": "stdout",
     "output_type": "stream",
     "text": [
      "2\n",
      "2 * 1 = 2\n",
      "2 * 2 = 4\n",
      "2 * 3 = 6\n",
      "2 * 4 = 8\n",
      "2 * 5 = 10\n",
      "2 * 6 = 12\n",
      "2 * 7 = 14\n",
      "2 * 8 = 16\n",
      "2 * 9 = 18\n",
      "2 * 10 = 20\n"
     ]
    }
   ],
   "source": [
    "n=int(input())\n",
    "for i in range(1,11):\n",
    "    print(n ,\"*\",i,\"=\",n*i)"
   ]
  },
  {
   "cell_type": "code",
   "execution_count": null,
   "metadata": {},
   "outputs": [],
   "source": [
    "n=int(input())\n",
    "sum=0\n",
    "fact=1\n",
    "if n%2==0:\n",
    "    for i in range(1,n):\n",
    "         if n%i==0:\n",
    "            sum+=i\n",
    "    if sum==n:\n",
    "        print(\"perfect number\")\n",
    "    else:\n",
    "        print(\"not perfect number\")\n",
    "else:\n",
    "    for i in range(1,n+1):\n",
    "        fact=fact*i\n",
    "    print(fact)\n"
   ]
  },
  {
   "cell_type": "code",
   "execution_count": 50,
   "metadata": {},
   "outputs": [
    {
     "name": "stdout",
     "output_type": "stream",
     "text": [
      "3\n",
      "1 * 1 = 1\n",
      "1 * 2 = 2\n",
      "1 * 3 = 3\n",
      "1 * 4 = 4\n",
      "1 * 5 = 5\n",
      "1 * 6 = 6\n",
      "1 * 7 = 7\n",
      "1 * 8 = 8\n",
      "1 * 9 = 9\n",
      "1 * 10 = 10\n",
      "\n",
      "\n",
      "2 * 1 = 2\n",
      "2 * 2 = 4\n",
      "2 * 3 = 6\n",
      "2 * 4 = 8\n",
      "2 * 5 = 10\n",
      "2 * 6 = 12\n",
      "2 * 7 = 14\n",
      "2 * 8 = 16\n",
      "2 * 9 = 18\n",
      "2 * 10 = 20\n",
      "\n",
      "\n",
      "3 * 1 = 3\n",
      "3 * 2 = 6\n",
      "3 * 3 = 9\n",
      "3 * 4 = 12\n",
      "3 * 5 = 15\n",
      "3 * 6 = 18\n",
      "3 * 7 = 21\n",
      "3 * 8 = 24\n",
      "3 * 9 = 27\n",
      "3 * 10 = 30\n",
      "\n",
      "\n"
     ]
    }
   ],
   "source": [
    "n=int(input())\n",
    "for i in range(1,n+1):\n",
    "    for j in range(1,11):\n",
    "        print(i,\"*\",j,\"=\",i*j)\n",
    "    print('\\n')\n",
    "        "
   ]
  },
  {
   "cell_type": "markdown",
   "metadata": {},
   "source": [
    "### break and continue statements"
   ]
  },
  {
   "cell_type": "code",
   "execution_count": 53,
   "metadata": {},
   "outputs": [
    {
     "name": "stdout",
     "output_type": "stream",
     "text": [
      "13\n",
      "1\n",
      "2\n",
      "3\n",
      "4\n",
      "5\n",
      "6\n",
      "7\n"
     ]
    }
   ],
   "source": [
    "n=int(input())\n",
    "for i in range(1,n+1):\n",
    "    print(i)\n",
    "    if i==7:\n",
    "        break\n",
    "    "
   ]
  },
  {
   "cell_type": "code",
   "execution_count": 56,
   "metadata": {},
   "outputs": [
    {
     "name": "stdout",
     "output_type": "stream",
     "text": [
      "13\n",
      "1 2 3 4 5 6 8 9 10 11 12 13 "
     ]
    }
   ],
   "source": [
    "n=int(input())\n",
    "for i in range(1,n+1):\n",
    "    if i==7:\n",
    "        continue\n",
    "    print(i,end=' ')\n",
    "    \n",
    "       "
   ]
  },
  {
   "cell_type": "markdown",
   "metadata": {},
   "source": [
    "### continue -----> just skips the given condition and print statement is given after continue\n",
    "### break----------------> to stop at that particular condition"
   ]
  },
  {
   "cell_type": "code",
   "execution_count": 8,
   "metadata": {},
   "outputs": [
    {
     "name": "stdout",
     "output_type": "stream",
     "text": [
      "sheema\n",
      "s\n",
      "h\n",
      "e\n",
      "e\n",
      "m\n",
      "a\n"
     ]
    }
   ],
   "source": [
    "#with string values\n",
    "n=input()\n",
    "for i in n:\n",
    "    print(i)"
   ]
  },
  {
   "cell_type": "markdown",
   "metadata": {},
   "source": [
    "### ord() -------------> parameter is string value\n",
    "### chr()------------> for calculating character from ascii value--------> parameter is number"
   ]
  },
  {
   "cell_type": "code",
   "execution_count": 10,
   "metadata": {},
   "outputs": [
    {
     "name": "stdout",
     "output_type": "stream",
     "text": [
      "97\n",
      "65\n",
      "52\n"
     ]
    }
   ],
   "source": [
    "print(ord('a'))\n",
    "print(ord('A'))\n",
    "print(ord('4'))"
   ]
  },
  {
   "cell_type": "code",
   "execution_count": 12,
   "metadata": {},
   "outputs": [
    {
     "name": "stdout",
     "output_type": "stream",
     "text": [
      "A\n",
      "8\n",
      "b\n"
     ]
    }
   ],
   "source": [
    "print(chr(65))\n",
    "print(chr(56))\n",
    "print(chr(98))"
   ]
  },
  {
   "cell_type": "code",
   "execution_count": 17,
   "metadata": {},
   "outputs": [
    {
     "name": "stdout",
     "output_type": "stream",
     "text": [
      "sheema\n",
      "115\n",
      "104\n",
      "101\n",
      "101\n",
      "109\n",
      "97\n"
     ]
    }
   ],
   "source": [
    "# to print asciii value from a given string\n",
    "n=input()\n",
    "for i in n:\n",
    "     print(ord(i))"
   ]
  },
  {
   "cell_type": "code",
   "execution_count": 22,
   "metadata": {},
   "outputs": [
    {
     "name": "stdout",
     "output_type": "stream",
     "text": [
      "sheema\n",
      "h\n"
     ]
    }
   ],
   "source": [
    "n=input()\n",
    "for i in n:\n",
    "    if (ord(i)%2==0):\n",
    "         print(i)"
   ]
  },
  {
   "cell_type": "code",
   "execution_count": 44,
   "metadata": {},
   "outputs": [
    {
     "name": "stdout",
     "output_type": "stream",
     "text": [
      "sheema\n",
      " h q q  h "
     ]
    }
   ],
   "source": [
    "n=input()\n",
    "for i in n:\n",
    "    if (ord(i)%2==0):\n",
    "         print(i,end=' ')\n",
    "    else:\n",
    "        a=(ord(i)*ord(i))/90\n",
    "        a1=int(a)\n",
    "        print(chr(a1),end=' ')\n",
    "        "
   ]
  },
  {
   "cell_type": "code",
   "execution_count": 51,
   "metadata": {},
   "outputs": [
    {
     "name": "stdout",
     "output_type": "stream",
     "text": [
      "python\n",
      "p ¢ t h  n "
     ]
    }
   ],
   "source": [
    "n=input()\n",
    "for i in n:\n",
    "    if (ord(i)%2==0):\n",
    "         print(i,end=' ')\n",
    "    else:\n",
    "        a=(ord(i)*ord(i))/90\n",
    "        print(chr(int(a)),end=' ')\n",
    "   "
   ]
  },
  {
   "cell_type": "code",
   "execution_count": 52,
   "metadata": {},
   "outputs": [
    {
     "name": "stdout",
     "output_type": "stream",
     "text": [
      "python\n",
      "p ¢ t h  n "
     ]
    }
   ],
   "source": [
    "n=input()\n",
    "for i in n:\n",
    "    if (ord(i)%2==0):\n",
    "         print(i,end=' ')\n",
    "    else:\n",
    "        a=(ord(i)*ord(i))//90\n",
    "        print(chr(a),end=' ')"
   ]
  },
  {
   "cell_type": "markdown",
   "metadata": {},
   "source": [
    "### while loop\n"
   ]
  },
  {
   "cell_type": "code",
   "execution_count": 53,
   "metadata": {},
   "outputs": [
    {
     "name": "stdout",
     "output_type": "stream",
     "text": [
      "2 4 6 8 10 "
     ]
    }
   ],
   "source": [
    "# even numbers\n",
    "i=1\n",
    "while i<=10:\n",
    "    if i%2==0:\n",
    "        print(i,end=' ')\n",
    "    i=i+1\n"
   ]
  },
  {
   "cell_type": "markdown",
   "metadata": {},
   "source": [
    "### functions\n",
    "* block of statements/set of statements to perfrom particular task is function\n",
    "* block of statements will excute and return the result when function called\n",
    "### function contains\n",
    "1.function declaration\n",
    "2.body of function\n",
    "3.function calling\n",
    "\n",
    "#### types of functions\n",
    "1.built_in\n",
    " 1.max\n",
    " 2.min\n",
    " 3.sum\n",
    " 4.len\n",
    " 5.ord\n",
    " 6.chr\n",
    " 7.abs ----------> absolute value\n",
    "2.userdefined \n",
    "      * it is defined by user to perform particular task\n",
    "      1.requried arg\n",
    "      2.default arg\n",
    "      3.keyword arg\n",
    "      4.variable length\n",
    "\n",
    "  "
   ]
  },
  {
   "cell_type": "code",
   "execution_count": null,
   "metadata": {},
   "outputs": [],
   "source": [
    "#syntax of function\n",
    "def function_name(arg):\n",
    "    body of function\n",
    "function_name()"
   ]
  },
  {
   "cell_type": "code",
   "execution_count": 59,
   "metadata": {},
   "outputs": [
    {
     "name": "stdout",
     "output_type": "stream",
     "text": [
      "to vignan\n",
      "welcome sheema to vignan\n"
     ]
    }
   ],
   "source": [
    "#greet\n",
    "n=input()\n",
    "def sample():\n",
    "        print(\"welcome sheema \" + n)\n",
    "sample()"
   ]
  },
  {
   "cell_type": "code",
   "execution_count": 58,
   "metadata": {},
   "outputs": [
    {
     "name": "stdout",
     "output_type": "stream",
     "text": [
      "to vignan\n",
      "welcome sheema  to vignan\n"
     ]
    }
   ],
   "source": [
    "n=input()\n",
    "def sample():\n",
    "        print(\"welcome sheema \" , n)\n",
    "sample()"
   ]
  },
  {
   "cell_type": "code",
   "execution_count": 61,
   "metadata": {},
   "outputs": [
    {
     "name": "stdout",
     "output_type": "stream",
     "text": [
      "2\n",
      "3\n",
      "multiplication of  2 and 3 is 6\n"
     ]
    }
   ],
   "source": [
    "def local():\n",
    "    n=int(input())\n",
    "    n1=int(input())\n",
    "    print(\"multiplication of \",n, \"and\",n1,\"is\", n*n1)\n",
    "local()"
   ]
  },
  {
   "cell_type": "code",
   "execution_count": 63,
   "metadata": {},
   "outputs": [
    {
     "name": "stdout",
     "output_type": "stream",
     "text": [
      "2\n",
      "3\n",
      "multiplication of  2 and 3 is 6\n",
      "2 3\n"
     ]
    }
   ],
   "source": [
    "n=int(input())\n",
    "n1=int(input())\n",
    "def local():\n",
    "    print(\"multiplication of \",n, \"and\",n1,\"is\", n*n1)\n",
    "local()\n",
    "print(n,n1)"
   ]
  },
  {
   "cell_type": "code",
   "execution_count": 1,
   "metadata": {},
   "outputs": [
    {
     "name": "stdout",
     "output_type": "stream",
     "text": [
      "6\n",
      "perfect number\n"
     ]
    }
   ],
   "source": [
    "n=int(input())\n",
    "def perfect_num():\n",
    "    sum=0\n",
    "    if n%2==0:\n",
    "            for i in range(1,n):\n",
    "                if n%i==0:\n",
    "                     sum+=i\n",
    "            if sum==n:\n",
    "                 print(\"perfect number\")\n",
    "            else:\n",
    "                  print(\"not perfect number\")\n",
    "\n",
    "def factorial():\n",
    "    fact=1\n",
    "    for i in range(1,n+1):\n",
    "        fact=fact*i\n",
    "    print(fact)\n",
    "if (n%2==0):\n",
    "    perfect_num()\n",
    "else:\n",
    "    factorial()\n",
    "    "
   ]
  },
  {
   "cell_type": "code",
   "execution_count": 2,
   "metadata": {},
   "outputs": [
    {
     "name": "stdout",
     "output_type": "stream",
     "text": [
      "sheema\n",
      "oxford\n",
      "123\n",
      "name is : sheema\n",
      "organization is : oxford\n",
      "phone num : 123\n"
     ]
    }
   ],
   "source": [
    "name=input()\n",
    "org=input()\n",
    "phone=input()\n",
    "def Requried(name,org,phone):\n",
    "    print(\"name is :\",name)\n",
    "    print(\"organization is :\",org)\n",
    "    print(\"phone num :\",phone)\n",
    "Requried(name,org,phone)\n",
    "    "
   ]
  },
  {
   "cell_type": "code",
   "execution_count": 1,
   "metadata": {},
   "outputs": [
    {
     "name": "stdout",
     "output_type": "stream",
     "text": [
      "mounika\n",
      "oxford\n",
      "name is : sheema\n",
      "organization is : vignan\n"
     ]
    }
   ],
   "source": [
    "name=input()\n",
    "org=input()\n",
    "def Requried(name,org):\n",
    "    print(\"name is :\",name)\n",
    "    print(\"organization is :\",org)\n",
    "Requried('sheema','vignan')\n",
    "   "
   ]
  },
  {
   "cell_type": "code",
   "execution_count": 2,
   "metadata": {},
   "outputs": [
    {
     "name": "stdout",
     "output_type": "stream",
     "text": [
      "addition is: 15\n",
      "mul is : 60\n"
     ]
    }
   ],
   "source": [
    "\n",
    "def Default(a,b,c=10):\n",
    "    print(\"addition is:\",a+b+c)\n",
    "    print(\"mul is :\",a*b*c)\n",
    "Default(3,2)\n",
    " "
   ]
  },
  {
   "cell_type": "code",
   "execution_count": 3,
   "metadata": {},
   "outputs": [
    {
     "name": "stdout",
     "output_type": "stream",
     "text": [
      "addition is: 9\n",
      "mul is : 24\n"
     ]
    }
   ],
   "source": [
    "def Default(a,b,c=10):\n",
    "    print(\"addition is:\",a+b+c)\n",
    "    print(\"mul is :\",a*b*c)\n",
    "Default(3,2,4)\n",
    " "
   ]
  },
  {
   "cell_type": "code",
   "execution_count": 5,
   "metadata": {},
   "outputs": [
    {
     "name": "stdout",
     "output_type": "stream",
     "text": [
      "Name is: sheemasyed\n",
      "Username is: sd\n"
     ]
    }
   ],
   "source": [
    "def Keyword(fname,lname,uname):\n",
    "    print(\"Name is:\",fname+lname)\n",
    "    print(\"Username is:\",uname)\n",
    "Keyword('sheema','syed','sd')"
   ]
  },
  {
   "cell_type": "code",
   "execution_count": 7,
   "metadata": {},
   "outputs": [
    {
     "name": "stdout",
     "output_type": "stream",
     "text": [
      "Name is: syedsd\n",
      "Username is: sheema\n"
     ]
    }
   ],
   "source": [
    "def Keyword(fname,lname,uname):\n",
    "    print(\"Name is:\",fname+lname)\n",
    "    print(\"Username is:\",uname)\n",
    "Keyword(uname='sheema',fname='syed',lname='sd')"
   ]
  },
  {
   "cell_type": "code",
   "execution_count": 1,
   "metadata": {},
   "outputs": [
    {
     "name": "stdout",
     "output_type": "stream",
     "text": [
      "10\n",
      "python\n",
      "online\n",
      "program\n",
      "20\n",
      "89.5\n"
     ]
    }
   ],
   "source": [
    "def varlen(num,*args):\n",
    "    num=10\n",
    "    print(num)\n",
    "    for a in args:\n",
    "        print(a)\n",
    "varlen(10,'python','online','program',20,89.5)"
   ]
  },
  {
   "cell_type": "code",
   "execution_count": null,
   "metadata": {},
   "outputs": [],
   "source": []
  }
 ],
 "metadata": {
  "kernelspec": {
   "display_name": "Python 3",
   "language": "python",
   "name": "python3"
  },
  "language_info": {
   "codemirror_mode": {
    "name": "ipython",
    "version": 3
   },
   "file_extension": ".py",
   "mimetype": "text/x-python",
   "name": "python",
   "nbconvert_exporter": "python",
   "pygments_lexer": "ipython3",
   "version": "3.8.5"
  }
 },
 "nbformat": 4,
 "nbformat_minor": 4
}
